{
  "cells": [
    {
      "cell_type": "markdown",
      "metadata": {
        "id": "view-in-github",
        "colab_type": "text"
      },
      "source": [
        "<a href=\"https://colab.research.google.com/github/JoeriHHS/Portfolio/blob/main/MachineLearningOpdracht.ipynb\" target=\"_parent\"><img src=\"https://colab.research.google.com/assets/colab-badge.svg\" alt=\"Open In Colab\"/></a>"
      ]
    },
    {
      "cell_type": "markdown",
      "id": "63e89376",
      "metadata": {
        "id": "63e89376"
      },
      "source": [
        "## Machine Learning opdracht\n",
        "#### Joeri Meijers (20123558)"
      ]
    },
    {
      "cell_type": "markdown",
      "id": "9ff9e32f",
      "metadata": {
        "id": "9ff9e32f"
      },
      "source": [
        "De opdracht bestaat uit 2 verschillende onderdelen. De rest van dit script zal uit 3 verschillende onderdelen bestaan. Als eerst zal de data worden ingeladen en worden bestudeerd, vervolgens zal het eerste deel van de opdracht worden uitgewerkt en tot slot zal het tweede deel van de opdracht worden uitgewerkt. De opdracht is het adviseren van een makelaar op de Nederlandse huizenmarkt. Daarvoor hebben we beschikking over een dataset van de website Funda.nl. De opdracht bestaat uit 2 onderdelen; het maken van een model dat de prijs van de huizen voorspelt en het maken van een model dat voorspelt of een huis binnen 14 dagen verkocht gaat worden."
      ]
    },
    {
      "cell_type": "markdown",
      "id": "1177b638",
      "metadata": {
        "id": "1177b638"
      },
      "source": [
        "## Data analyse"
      ]
    },
    {
      "cell_type": "code",
      "execution_count": null,
      "id": "66206e1c",
      "metadata": {
        "id": "66206e1c"
      },
      "outputs": [],
      "source": [
        "import pandas as pd\n",
        "import numpy as np\n",
        "from sklearn.model_selection import train_test_split\n",
        "from sklearn.linear_model import LinearRegression, LogisticRegression\n",
        "from sklearn.ensemble import RandomForestRegressor, RandomForestClassifier\n",
        "from sklearn.metrics import mean_squared_error\n",
        "from sklearn.metrics import r2_score\n",
        "from sklearn.metrics import accuracy_score, confusion_matrix\n",
        "from sklearn.metrics import recall_score, precision_score, f1_score\n",
        "import math\n",
        "import matplotlib.pyplot as plt\n",
        "import optuna\n",
        "import optuna.visualization as ov\n",
        "import matplotlib\n",
        "from sklearn.linear_model import Lasso\n",
        "from sklearn.utils import resample"
      ]
    },
    {
      "cell_type": "code",
      "execution_count": null,
      "id": "89ada549",
      "metadata": {
        "id": "89ada549",
        "outputId": "198a5043-bf79-41ef-c4de-394d728fbc7a"
      },
      "outputs": [
        {
          "data": {
            "text/html": [
              "<div>\n",
              "<style scoped>\n",
              "    .dataframe tbody tr th:only-of-type {\n",
              "        vertical-align: middle;\n",
              "    }\n",
              "\n",
              "    .dataframe tbody tr th {\n",
              "        vertical-align: top;\n",
              "    }\n",
              "\n",
              "    .dataframe thead th {\n",
              "        text-align: right;\n",
              "    }\n",
              "</style>\n",
              "<table border=\"1\" class=\"dataframe\">\n",
              "  <thead>\n",
              "    <tr style=\"text-align: right;\">\n",
              "      <th></th>\n",
              "      <th>Laatste vraagprijs</th>\n",
              "      <th>Aantal kamers</th>\n",
              "      <th>Overige inpandige ruimte m2</th>\n",
              "      <th>Perceel m2</th>\n",
              "      <th>Achtertuin m2</th>\n",
              "      <th>Aantal dagen tot verkoop</th>\n",
              "      <th>Woonruimte in m2</th>\n",
              "      <th>Gebouwgebonden buitenruimte in m2</th>\n",
              "      <th>Externe bergruimte in m2</th>\n",
              "      <th>Inhoud in m3</th>\n",
              "      <th>...</th>\n",
              "      <th>Soort garage_Parkeerplaats</th>\n",
              "      <th>Soort garage_Inpandig</th>\n",
              "      <th>Soort garage_Parkeerkelder</th>\n",
              "      <th>Soort garage_Garagebox</th>\n",
              "      <th>Soort garage_Aangebouwdestenen garage</th>\n",
              "      <th>Soort garage_Carport</th>\n",
              "      <th>Soort garage_Vrijstaandestenen garage</th>\n",
              "      <th>Soort garage_Vrijstaandehouten garage</th>\n",
              "      <th>Soort garage_Garagemet carport</th>\n",
              "      <th>Soort garage_Souterrain</th>\n",
              "    </tr>\n",
              "  </thead>\n",
              "  <tbody>\n",
              "    <tr>\n",
              "      <th>0</th>\n",
              "      <td>485000</td>\n",
              "      <td>5</td>\n",
              "      <td>18</td>\n",
              "      <td>263</td>\n",
              "      <td>120</td>\n",
              "      <td>295</td>\n",
              "      <td>151</td>\n",
              "      <td>0</td>\n",
              "      <td>0</td>\n",
              "      <td>625</td>\n",
              "      <td>...</td>\n",
              "      <td>0</td>\n",
              "      <td>0</td>\n",
              "      <td>0</td>\n",
              "      <td>0</td>\n",
              "      <td>0</td>\n",
              "      <td>0</td>\n",
              "      <td>0</td>\n",
              "      <td>0</td>\n",
              "      <td>0</td>\n",
              "      <td>0</td>\n",
              "    </tr>\n",
              "    <tr>\n",
              "      <th>1</th>\n",
              "      <td>375000</td>\n",
              "      <td>5</td>\n",
              "      <td>0</td>\n",
              "      <td>198</td>\n",
              "      <td>60</td>\n",
              "      <td>269</td>\n",
              "      <td>117</td>\n",
              "      <td>0</td>\n",
              "      <td>5</td>\n",
              "      <td>415</td>\n",
              "      <td>...</td>\n",
              "      <td>1</td>\n",
              "      <td>0</td>\n",
              "      <td>0</td>\n",
              "      <td>0</td>\n",
              "      <td>0</td>\n",
              "      <td>0</td>\n",
              "      <td>0</td>\n",
              "      <td>0</td>\n",
              "      <td>0</td>\n",
              "      <td>0</td>\n",
              "    </tr>\n",
              "    <tr>\n",
              "      <th>2</th>\n",
              "      <td>279500</td>\n",
              "      <td>3</td>\n",
              "      <td>4</td>\n",
              "      <td>128</td>\n",
              "      <td>68</td>\n",
              "      <td>113</td>\n",
              "      <td>94</td>\n",
              "      <td>0</td>\n",
              "      <td>0</td>\n",
              "      <td>365</td>\n",
              "      <td>...</td>\n",
              "      <td>0</td>\n",
              "      <td>0</td>\n",
              "      <td>0</td>\n",
              "      <td>0</td>\n",
              "      <td>0</td>\n",
              "      <td>0</td>\n",
              "      <td>0</td>\n",
              "      <td>0</td>\n",
              "      <td>0</td>\n",
              "      <td>0</td>\n",
              "    </tr>\n",
              "    <tr>\n",
              "      <th>3</th>\n",
              "      <td>2330000</td>\n",
              "      <td>8</td>\n",
              "      <td>0</td>\n",
              "      <td>2479</td>\n",
              "      <td>2172</td>\n",
              "      <td>158</td>\n",
              "      <td>307</td>\n",
              "      <td>0</td>\n",
              "      <td>0</td>\n",
              "      <td>921</td>\n",
              "      <td>...</td>\n",
              "      <td>1</td>\n",
              "      <td>0</td>\n",
              "      <td>0</td>\n",
              "      <td>0</td>\n",
              "      <td>0</td>\n",
              "      <td>0</td>\n",
              "      <td>0</td>\n",
              "      <td>0</td>\n",
              "      <td>0</td>\n",
              "      <td>0</td>\n",
              "    </tr>\n",
              "    <tr>\n",
              "      <th>4</th>\n",
              "      <td>2270000</td>\n",
              "      <td>8</td>\n",
              "      <td>0</td>\n",
              "      <td>1796</td>\n",
              "      <td>1489</td>\n",
              "      <td>164</td>\n",
              "      <td>307</td>\n",
              "      <td>0</td>\n",
              "      <td>0</td>\n",
              "      <td>921</td>\n",
              "      <td>...</td>\n",
              "      <td>1</td>\n",
              "      <td>0</td>\n",
              "      <td>0</td>\n",
              "      <td>0</td>\n",
              "      <td>0</td>\n",
              "      <td>0</td>\n",
              "      <td>0</td>\n",
              "      <td>0</td>\n",
              "      <td>0</td>\n",
              "      <td>0</td>\n",
              "    </tr>\n",
              "    <tr>\n",
              "      <th>...</th>\n",
              "      <td>...</td>\n",
              "      <td>...</td>\n",
              "      <td>...</td>\n",
              "      <td>...</td>\n",
              "      <td>...</td>\n",
              "      <td>...</td>\n",
              "      <td>...</td>\n",
              "      <td>...</td>\n",
              "      <td>...</td>\n",
              "      <td>...</td>\n",
              "      <td>...</td>\n",
              "      <td>...</td>\n",
              "      <td>...</td>\n",
              "      <td>...</td>\n",
              "      <td>...</td>\n",
              "      <td>...</td>\n",
              "      <td>...</td>\n",
              "      <td>...</td>\n",
              "      <td>...</td>\n",
              "      <td>...</td>\n",
              "      <td>...</td>\n",
              "    </tr>\n",
              "    <tr>\n",
              "      <th>9879</th>\n",
              "      <td>494449</td>\n",
              "      <td>6</td>\n",
              "      <td>16</td>\n",
              "      <td>653</td>\n",
              "      <td>477</td>\n",
              "      <td>26</td>\n",
              "      <td>150</td>\n",
              "      <td>4</td>\n",
              "      <td>22</td>\n",
              "      <td>646</td>\n",
              "      <td>...</td>\n",
              "      <td>1</td>\n",
              "      <td>0</td>\n",
              "      <td>0</td>\n",
              "      <td>0</td>\n",
              "      <td>0</td>\n",
              "      <td>0</td>\n",
              "      <td>1</td>\n",
              "      <td>0</td>\n",
              "      <td>0</td>\n",
              "      <td>0</td>\n",
              "    </tr>\n",
              "    <tr>\n",
              "      <th>9880</th>\n",
              "      <td>425000</td>\n",
              "      <td>5</td>\n",
              "      <td>61</td>\n",
              "      <td>356</td>\n",
              "      <td>75</td>\n",
              "      <td>56</td>\n",
              "      <td>109</td>\n",
              "      <td>0</td>\n",
              "      <td>0</td>\n",
              "      <td>619</td>\n",
              "      <td>...</td>\n",
              "      <td>0</td>\n",
              "      <td>1</td>\n",
              "      <td>0</td>\n",
              "      <td>0</td>\n",
              "      <td>0</td>\n",
              "      <td>0</td>\n",
              "      <td>0</td>\n",
              "      <td>0</td>\n",
              "      <td>0</td>\n",
              "      <td>0</td>\n",
              "    </tr>\n",
              "    <tr>\n",
              "      <th>9881</th>\n",
              "      <td>279500</td>\n",
              "      <td>4</td>\n",
              "      <td>10</td>\n",
              "      <td>119</td>\n",
              "      <td>30</td>\n",
              "      <td>28</td>\n",
              "      <td>132</td>\n",
              "      <td>8</td>\n",
              "      <td>0</td>\n",
              "      <td>540</td>\n",
              "      <td>...</td>\n",
              "      <td>0</td>\n",
              "      <td>0</td>\n",
              "      <td>0</td>\n",
              "      <td>0</td>\n",
              "      <td>0</td>\n",
              "      <td>0</td>\n",
              "      <td>0</td>\n",
              "      <td>0</td>\n",
              "      <td>0</td>\n",
              "      <td>0</td>\n",
              "    </tr>\n",
              "    <tr>\n",
              "      <th>9882</th>\n",
              "      <td>365000</td>\n",
              "      <td>5</td>\n",
              "      <td>0</td>\n",
              "      <td>178</td>\n",
              "      <td>63</td>\n",
              "      <td>21</td>\n",
              "      <td>118</td>\n",
              "      <td>13</td>\n",
              "      <td>8</td>\n",
              "      <td>405</td>\n",
              "      <td>...</td>\n",
              "      <td>0</td>\n",
              "      <td>0</td>\n",
              "      <td>0</td>\n",
              "      <td>0</td>\n",
              "      <td>0</td>\n",
              "      <td>0</td>\n",
              "      <td>0</td>\n",
              "      <td>0</td>\n",
              "      <td>0</td>\n",
              "      <td>0</td>\n",
              "    </tr>\n",
              "    <tr>\n",
              "      <th>9883</th>\n",
              "      <td>275000</td>\n",
              "      <td>6</td>\n",
              "      <td>0</td>\n",
              "      <td>219</td>\n",
              "      <td>77</td>\n",
              "      <td>21</td>\n",
              "      <td>128</td>\n",
              "      <td>24</td>\n",
              "      <td>21</td>\n",
              "      <td>438</td>\n",
              "      <td>...</td>\n",
              "      <td>0</td>\n",
              "      <td>0</td>\n",
              "      <td>0</td>\n",
              "      <td>0</td>\n",
              "      <td>0</td>\n",
              "      <td>1</td>\n",
              "      <td>1</td>\n",
              "      <td>0</td>\n",
              "      <td>0</td>\n",
              "      <td>0</td>\n",
              "    </tr>\n",
              "  </tbody>\n",
              "</table>\n",
              "<p>9884 rows × 104 columns</p>\n",
              "</div>"
            ],
            "text/plain": [
              "      Laatste vraagprijs  Aantal kamers  Overige inpandige ruimte m2  \\\n",
              "0                 485000              5                           18   \n",
              "1                 375000              5                            0   \n",
              "2                 279500              3                            4   \n",
              "3                2330000              8                            0   \n",
              "4                2270000              8                            0   \n",
              "...                  ...            ...                          ...   \n",
              "9879              494449              6                           16   \n",
              "9880              425000              5                           61   \n",
              "9881              279500              4                           10   \n",
              "9882              365000              5                            0   \n",
              "9883              275000              6                            0   \n",
              "\n",
              "      Perceel m2  Achtertuin m2  Aantal dagen tot verkoop  Woonruimte in m2  \\\n",
              "0            263            120                       295               151   \n",
              "1            198             60                       269               117   \n",
              "2            128             68                       113                94   \n",
              "3           2479           2172                       158               307   \n",
              "4           1796           1489                       164               307   \n",
              "...          ...            ...                       ...               ...   \n",
              "9879         653            477                        26               150   \n",
              "9880         356             75                        56               109   \n",
              "9881         119             30                        28               132   \n",
              "9882         178             63                        21               118   \n",
              "9883         219             77                        21               128   \n",
              "\n",
              "      Gebouwgebonden buitenruimte in m2  Externe bergruimte in m2  \\\n",
              "0                                     0                         0   \n",
              "1                                     0                         5   \n",
              "2                                     0                         0   \n",
              "3                                     0                         0   \n",
              "4                                     0                         0   \n",
              "...                                 ...                       ...   \n",
              "9879                                  4                        22   \n",
              "9880                                  0                         0   \n",
              "9881                                  8                         0   \n",
              "9882                                 13                         8   \n",
              "9883                                 24                        21   \n",
              "\n",
              "      Inhoud in m3  ...  Soort garage_Parkeerplaats  Soort garage_Inpandig  \\\n",
              "0              625  ...                           0                      0   \n",
              "1              415  ...                           1                      0   \n",
              "2              365  ...                           0                      0   \n",
              "3              921  ...                           1                      0   \n",
              "4              921  ...                           1                      0   \n",
              "...            ...  ...                         ...                    ...   \n",
              "9879           646  ...                           1                      0   \n",
              "9880           619  ...                           0                      1   \n",
              "9881           540  ...                           0                      0   \n",
              "9882           405  ...                           0                      0   \n",
              "9883           438  ...                           0                      0   \n",
              "\n",
              "      Soort garage_Parkeerkelder  Soort garage_Garagebox  \\\n",
              "0                              0                       0   \n",
              "1                              0                       0   \n",
              "2                              0                       0   \n",
              "3                              0                       0   \n",
              "4                              0                       0   \n",
              "...                          ...                     ...   \n",
              "9879                           0                       0   \n",
              "9880                           0                       0   \n",
              "9881                           0                       0   \n",
              "9882                           0                       0   \n",
              "9883                           0                       0   \n",
              "\n",
              "      Soort garage_Aangebouwdestenen garage  Soort garage_Carport  \\\n",
              "0                                         0                     0   \n",
              "1                                         0                     0   \n",
              "2                                         0                     0   \n",
              "3                                         0                     0   \n",
              "4                                         0                     0   \n",
              "...                                     ...                   ...   \n",
              "9879                                      0                     0   \n",
              "9880                                      0                     0   \n",
              "9881                                      0                     0   \n",
              "9882                                      0                     0   \n",
              "9883                                      0                     1   \n",
              "\n",
              "      Soort garage_Vrijstaandestenen garage  \\\n",
              "0                                         0   \n",
              "1                                         0   \n",
              "2                                         0   \n",
              "3                                         0   \n",
              "4                                         0   \n",
              "...                                     ...   \n",
              "9879                                      1   \n",
              "9880                                      0   \n",
              "9881                                      0   \n",
              "9882                                      0   \n",
              "9883                                      1   \n",
              "\n",
              "      Soort garage_Vrijstaandehouten garage  Soort garage_Garagemet carport  \\\n",
              "0                                         0                               0   \n",
              "1                                         0                               0   \n",
              "2                                         0                               0   \n",
              "3                                         0                               0   \n",
              "4                                         0                               0   \n",
              "...                                     ...                             ...   \n",
              "9879                                      0                               0   \n",
              "9880                                      0                               0   \n",
              "9881                                      0                               0   \n",
              "9882                                      0                               0   \n",
              "9883                                      0                               0   \n",
              "\n",
              "      Soort garage_Souterrain  \n",
              "0                           0  \n",
              "1                           0  \n",
              "2                           0  \n",
              "3                           0  \n",
              "4                           0  \n",
              "...                       ...  \n",
              "9879                        0  \n",
              "9880                        0  \n",
              "9881                        0  \n",
              "9882                        0  \n",
              "9883                        0  \n",
              "\n",
              "[9884 rows x 104 columns]"
            ]
          },
          "execution_count": 2,
          "metadata": {},
          "output_type": "execute_result"
        }
      ],
      "source": [
        "df = pd.read_csv('dataset_funda.csv')\n",
        "df[\"Aantal dagen tot verkoop\"] = df[\"Aantal dagen tot verkoop\"].apply(lambda x: int(x[:-5]))\n",
        "df = df.select_dtypes(include=['number'])\n",
        "df = df.drop('Vraagprijs per m2', axis=1)\n",
        "df"
      ]
    },
    {
      "cell_type": "markdown",
      "id": "13c4c3ba",
      "metadata": {
        "id": "13c4c3ba"
      },
      "source": [
        "In de tabel staan een hoop waardes waar een machine learning model niet zoveel mee kan. Het eerste wat ik doe is het filteren van de tabel op alleen nummerieke waarden. De variabele aantal dagen tot verkoop wordt zo genoteerd dat alleen het aantal dagen nog in de cellen staan. Ook de kolom met daarin de vraagprijs per m2 verwijderen we uit het model. De reden hiervoor is dat de vraagprijs per m2 pas bekend is op het moment dat de laatste vraagprijs bekend is. In de toekomst zal een makelaar niks hebben aan een model die deze variabele meeneemt omdat deze informatie op voorhand niet bekend is, maar pas bekend wordt zodra de verkoopprijs bekend is."
      ]
    },
    {
      "cell_type": "code",
      "execution_count": null,
      "id": "afd31cab",
      "metadata": {
        "id": "afd31cab",
        "outputId": "2cd40ba0-ad20-4889-d5a9-81fe437265e5"
      },
      "outputs": [
        {
          "data": {
            "text/plain": [
              "0"
            ]
          },
          "execution_count": 3,
          "metadata": {},
          "output_type": "execute_result"
        }
      ],
      "source": [
        "#Om te bekijken of er nog missende waarden in de dataset zitten.\n",
        "df.isna().sum().sum()"
      ]
    },
    {
      "cell_type": "code",
      "execution_count": null,
      "id": "847386b6",
      "metadata": {
        "id": "847386b6",
        "outputId": "c7d4c46c-0628-4b8b-f9a3-65111db0e90d"
      },
      "outputs": [
        {
          "data": {
            "text/plain": [
              "count      9884.000\n",
              "mean     440570.096\n",
              "std      223982.926\n",
              "min       75000.000\n",
              "25%      300000.000\n",
              "50%      389000.000\n",
              "75%      510000.000\n",
              "max     2950000.000\n",
              "Name: Laatste vraagprijs, dtype: float64"
            ]
          },
          "execution_count": 4,
          "metadata": {},
          "output_type": "execute_result"
        }
      ],
      "source": [
        "#Hier staat informatie over de doelvariabele\n",
        "pd.options.display.float_format = '{:.3f}'.format\n",
        "df[\"Laatste vraagprijs\"].describe()"
      ]
    },
    {
      "cell_type": "code",
      "execution_count": null,
      "id": "5254e5b4",
      "metadata": {
        "id": "5254e5b4",
        "outputId": "6fa03e77-4d32-4f0f-c719-140c01777f46"
      },
      "outputs": [
        {
          "data": {
            "image/png": "[encoded data removed]",
            "text/plain": [
              "<Figure size 640x480 with 1 Axes>"
            ]
          },
          "metadata": {},
          "output_type": "display_data"
        }
      ],
      "source": [
        "#Ik was benieuwd naar de verdeling van de huizenprijzen. Je ziet duidelijk dat de meeste huizen worden verkocht voor minder dan 1 miljoen euro en enkele huizen voor meer dan 1 miljoen euro.\n",
        "plt.hist(df[\"Laatste vraagprijs\"], bins=range(0, 3000000, 100000), edgecolor='k')\n",
        "plt.xlabel(\"Laatste vraagprijs\")\n",
        "plt.ylabel(\"Aantal\")\n",
        "plt.title(\"Verdeling van Laatste vraagprijs\")\n",
        "plt.ticklabel_format(style='plain', axis='both')\n",
        "plt.show()"
      ]
    },
    {
      "cell_type": "code",
      "execution_count": null,
      "id": "eea5b75e",
      "metadata": {
        "id": "eea5b75e",
        "outputId": "fe0d1882-7b67-4228-f739-5a9da536d86d"
      },
      "outputs": [
        {
          "data": {
            "text/plain": [
              "Laatste vraagprijs                      1.000\n",
              "Aantal kamers                           0.404\n",
              "Overige inpandige ruimte m2             0.190\n",
              "Perceel m2                              0.266\n",
              "Achtertuin m2                           0.227\n",
              "                                         ... \n",
              "Soort garage_Carport                    0.058\n",
              "Soort garage_Vrijstaandestenen garage   0.078\n",
              "Soort garage_Vrijstaandehouten garage   0.047\n",
              "Soort garage_Garagemet carport          0.004\n",
              "Soort garage_Souterrain                 0.060\n",
              "Name: Laatste vraagprijs, Length: 104, dtype: float64"
            ]
          },
          "execution_count": 6,
          "metadata": {},
          "output_type": "execute_result"
        }
      ],
      "source": [
        "#Dit zijn de correlaties van de variabelen met de doelvariabele.\n",
        "df.corr()['Laatste vraagprijs']"
      ]
    },
    {
      "cell_type": "code",
      "execution_count": null,
      "id": "639d9ba2",
      "metadata": {
        "id": "639d9ba2"
      },
      "outputs": [],
      "source": [
        "#Vervolgens worden alle variabelen opgeslagen in een lijst waarvan de correlatie met de laatste vraagprijs meer is dan 0.1 of lager is dan 0.1.\n",
        "correlaties = df.corr()['Laatste vraagprijs'].sort_values(ascending=False)\n",
        "geselcteerde_variabelen = correlaties[(correlaties > 0.1) | (correlaties < -0.11)]\n",
        "sterk_correlatie = geselcteerde_variabelen.index.tolist()[1:] #vanaf de tweede rij omdat op de eerste rij de doelvariabele staat."
      ]
    },
    {
      "cell_type": "markdown",
      "id": "74356908",
      "metadata": {
        "id": "74356908"
      },
      "source": [
        "### Voor opdracht deel 2"
      ]
    },
    {
      "cell_type": "code",
      "execution_count": null,
      "id": "02b746da",
      "metadata": {
        "id": "02b746da",
        "outputId": "4ca4e6f7-dba8-4161-ccb2-9d13edd39b6a"
      },
      "outputs": [
        {
          "data": {
            "image/png": "[encoded data removed]",
            "text/plain": [
              "<Figure size 640x480 with 1 Axes>"
            ]
          },
          "metadata": {},
          "output_type": "display_data"
        }
      ],
      "source": [
        "#Dit is de verdeling van de aantal dagen tot verkoop. De eerste bin zijn de huizen die binnen 14 dagen verkocht worden. Er zijn ook huizen die na 120+ dagen vrekocht werden, maar dat maakte de grafeik heel onduidelijk dus vandaar dat er een maximum zit op 150.\n",
        "plt.hist(df[\"Aantal dagen tot verkoop\"], bins= range(0,150, 15), edgecolor='k')\n",
        "plt.xlabel(\"Aantal dagen tot verkoop\")\n",
        "plt.ylabel(\"Aantal\")\n",
        "plt.title(\"Verdeling van Aantal dagen tot verkoop\")\n",
        "plt.ticklabel_format(style='plain', axis='both')\n",
        "plt.show()"
      ]
    },
    {
      "cell_type": "code",
      "execution_count": null,
      "id": "536cff85",
      "metadata": {
        "id": "536cff85"
      },
      "outputs": [],
      "source": [
        "#Hier splits ik de totale data in een df en een validdf. Met de validdf kan ik na het testen nog controleren of het model niet overfit op de testset.\n",
        "df, validdf = train_test_split(df, test_size = 0.1)"
      ]
    },
    {
      "cell_type": "markdown",
      "id": "34c48498",
      "metadata": {
        "id": "34c48498"
      },
      "source": [
        "## Opdracht deel 1"
      ]
    },
    {
      "cell_type": "markdown",
      "id": "7690ecb9",
      "metadata": {
        "id": "7690ecb9"
      },
      "source": [
        "Voor de eerste opdracht is er gevraagd of we een model kunnen maken die een voorspelling kan maken van de huizenprijs. We mogen daarbij aannemen dat de variabele 'Laatste vraagprijs' de uiteindelijke huizenprijs is. De dataset heeft ontzettend veel verschillende variabelen en ik denk dat niet alle variabelen even relevant zijn. Om dat aan te tonen hebben we modellen gebouwd met data die alleen sterk correleert met de doelvariabele en modellen alle beschikbare data."
      ]
    },
    {
      "cell_type": "markdown",
      "id": "6f16ccb0",
      "metadata": {
        "id": "6f16ccb0"
      },
      "source": [
        "Omdat wij bij het project modelleren gebruik maken van de RandomForestRegressor, wilde ik dit model ook toepassen op dit probleem. Ik wilde het model gaan vergelijken met de LinearRegression."
      ]
    },
    {
      "cell_type": "markdown",
      "id": "9f2668d9",
      "metadata": {
        "id": "9f2668d9"
      },
      "source": [
        "### Model 1; LinearRegression met alle data"
      ]
    },
    {
      "cell_type": "markdown",
      "id": "f91fdfe8",
      "metadata": {
        "id": "f91fdfe8"
      },
      "source": [
        "Eerst maak ik 1 keer een model aan en bereken ik de RMSE en de R2-score. Daarna doe ik dit 100 keer met elke keer een andere samenstelling van de train en test set en bereken ik het gemiddelde van de RMSE en de R2-score."
      ]
    },
    {
      "cell_type": "code",
      "execution_count": null,
      "id": "1d704217",
      "metadata": {
        "id": "1d704217",
        "outputId": "0d039081-31ac-4710-b80c-9a71caa6a435"
      },
      "outputs": [
        {
          "name": "stdout",
          "output_type": "stream",
          "text": [
            "Voor model 1; de LinearRegression met alle data kom ik op een RMSE van: 139632.75657230607, en een R2-score van: 0.5845007312025419.\n"
          ]
        }
      ],
      "source": [
        "X = df.drop(\"Laatste vraagprijs\", axis = 1)\n",
        "y = df[\"Laatste vraagprijs\"]\n",
        "#Train test split om de dataset te splitten in een trainingsdeel en een testdeel\n",
        "X_train, X_test, y_train, y_test = train_test_split(X, y, test_size = 0.3, random_state = 42)\n",
        "\n",
        "#Model aanamken, trainen en y_pred berekenen\n",
        "model = LinearRegression()\n",
        "model.fit(X_train, y_train)\n",
        "y_pred = model.predict(X_test)\n",
        "\n",
        "#Model evalueren op basis van de RMSE en de r2-score\n",
        "rmse = math.sqrt(mean_squared_error(y_test, y_pred))\n",
        "r2 = r2_score(y_test, y_pred)\n",
        "\n",
        "print(f'Voor model 1; de LinearRegression met alle data kom ik op een RMSE van: {rmse}, en een R2-score van: {r2}.')"
      ]
    },
    {
      "cell_type": "code",
      "execution_count": null,
      "id": "035edf5e",
      "metadata": {
        "id": "035edf5e",
        "outputId": "dd0d33c7-3a25-4138-9b83-6ee950325b7c"
      },
      "outputs": [
        {
          "name": "stdout",
          "output_type": "stream",
          "text": [
            "Voor 100 iteraties komt er uit dit model een gemiddelde RMSE van: 140691.95144260963 en een gemiddelde R2-score van: 0.6058316338826951.\n"
          ]
        }
      ],
      "source": [
        "rmselist = []\n",
        "r2list = []\n",
        "for i in range(100):\n",
        "    X = df.drop(\"Laatste vraagprijs\", axis = 1)\n",
        "    y = df[\"Laatste vraagprijs\"]\n",
        "    #Train test split om de dataset te splitten in een trainingsdeel en een testdeel\n",
        "    X_train, X_test, y_train, y_test = train_test_split(X, y, test_size = 0.3)\n",
        "\n",
        "    #Model aanamken, trainen en y_pred berekenen\n",
        "    model = LinearRegression()\n",
        "    model.fit(X_train, y_train)\n",
        "    y_pred = model.predict(X_test)\n",
        "\n",
        "    #Model evalueren op basis van de RMSE en de r2-score\n",
        "    rmse = math.sqrt(mean_squared_error(y_test, y_pred))\n",
        "    r2 = r2_score(y_test, y_pred)\n",
        "\n",
        "    rmselist.append(rmse)\n",
        "    r2list.append(r2)\n",
        "print(f'Voor 100 iteraties komt er uit dit model een gemiddelde RMSE van: {sum(rmselist)/len(rmselist)} en een gemiddelde R2-score van: {sum(r2list)/len(r2list)}.')"
      ]
    },
    {
      "cell_type": "markdown",
      "id": "259fedcf",
      "metadata": {
        "id": "259fedcf"
      },
      "source": [
        "Over 100 iteraties presteert het model alleen maar beter, dat kunnen we zien omdat de RMSE kleiner wordt en de R2-score juist groter wordt."
      ]
    },
    {
      "cell_type": "markdown",
      "id": "78265cf5",
      "metadata": {
        "id": "78265cf5"
      },
      "source": [
        "### Model 2; LinearRegression met sterk correlerende variabelen"
      ]
    },
    {
      "cell_type": "code",
      "execution_count": null,
      "id": "d6e4a8c6",
      "metadata": {
        "id": "d6e4a8c6",
        "outputId": "0ba5e61d-6397-43c6-fc73-8d5b93928b60"
      },
      "outputs": [
        {
          "name": "stdout",
          "output_type": "stream",
          "text": [
            "Voor model 2; de LinearRegression met sterk gecorreleerde data komen wij op een RMSE van: 144766.42101475754, en een R2-score van: 0.5533870459200767.\n"
          ]
        }
      ],
      "source": [
        "X = df[sterk_correlatie]\n",
        "y = df[\"Laatste vraagprijs\"]\n",
        "#Train test split om de dataset te splitten in een trainingsdeel en een testdeel\n",
        "X_train, X_test, y_train, y_test = train_test_split(X, y, test_size = 0.3, random_state = 42)\n",
        "\n",
        "#Model aanamken, trainen en y_pred berekenen\n",
        "model = LinearRegression()\n",
        "model.fit(X_train, y_train)\n",
        "y_pred = model.predict(X_test)\n",
        "\n",
        "#Model evalueren op basis van de RMSE en de r2-score\n",
        "rmse = math.sqrt(mean_squared_error(y_test, y_pred))\n",
        "r2 = r2_score(y_test, y_pred)\n",
        "\n",
        "print(f'Voor model 2; de LinearRegression met sterk gecorreleerde data komen wij op een RMSE van: {rmse}, en een R2-score van: {r2}.')"
      ]
    },
    {
      "cell_type": "code",
      "execution_count": null,
      "id": "600feb79",
      "metadata": {
        "id": "600feb79",
        "outputId": "3a0a23ee-fd93-4661-85d5-f792f33d5b51"
      },
      "outputs": [
        {
          "name": "stdout",
          "output_type": "stream",
          "text": [
            "Voor 100 iteraties komt er uit dit model een gemiddelde RMSE van: 145756.74902080922 en een gemiddelde R2-score van: 0.5727077671265061.\n"
          ]
        }
      ],
      "source": [
        "rmselist = []\n",
        "r2list = []\n",
        "for i in range(100):\n",
        "    X = df[sterk_correlatie]\n",
        "    y = df[\"Laatste vraagprijs\"]\n",
        "    #Train test split om de dataset te splitten in een trainingsdeel en een testdeel\n",
        "    X_train, X_test, y_train, y_test = train_test_split(X, y, test_size = 0.3)\n",
        "\n",
        "    #Model aanamken, trainen en y_pred berekenen\n",
        "    model = LinearRegression()\n",
        "    model.fit(X_train, y_train)\n",
        "    y_pred = model.predict(X_test)\n",
        "\n",
        "    #Model evalueren op basis van de RMSE en de r2-score\n",
        "    rmse = math.sqrt(mean_squared_error(y_test, y_pred))\n",
        "    r2 = r2_score(y_test, y_pred)\n",
        "\n",
        "    rmselist.append(rmse)\n",
        "    r2list.append(r2)\n",
        "print(f'Voor 100 iteraties komt er uit dit model een gemiddelde RMSE van: {sum(rmselist)/len(rmselist)} en een gemiddelde R2-score van: {sum(r2list)/len(r2list)}.')"
      ]
    },
    {
      "cell_type": "markdown",
      "id": "0878e155",
      "metadata": {
        "id": "0878e155"
      },
      "source": [
        "Over 100 iteraties presteert het model alleen maar beter, dat kunnen we zien omdat de RMSE kleiner wordt en de R2-score juist groter wordt."
      ]
    },
    {
      "cell_type": "markdown",
      "id": "56f884ac",
      "metadata": {
        "id": "56f884ac"
      },
      "source": [
        "### Model 3; RandomForestRegression met alle data"
      ]
    },
    {
      "cell_type": "markdown",
      "id": "2501f32e",
      "metadata": {
        "id": "2501f32e"
      },
      "source": [
        "Dit model gerbuiken wij bij ons modelleren project voor het voorspellen van het ziekteverloop van een patient met CIDP. ik ben benieuwd of dit model goed werkt op dit probleem. Dit model heeft vershcillende hyperparameters die ik kan tunen. Ik heb ervoor gekozen om een trial uit te voeren om de optimale waardes voor de max_depth en n_estimators te vinden."
      ]
    },
    {
      "cell_type": "code",
      "execution_count": null,
      "id": "3bc1d9b3",
      "metadata": {
        "id": "3bc1d9b3",
        "outputId": "3b2c09ee-65bb-42d4-8e4e-115f95788228"
      },
      "outputs": [
        {
          "name": "stderr",
          "output_type": "stream",
          "text": [
            "[I 2023-10-29 20:14:45,239] A new study created in memory with name: no-name-1426aa56-1ed1-4cba-b565-24ca57a53d10\n",
            "[I 2023-10-29 20:14:47,244] Trial 0 finished with value: 0.5911428857501931 and parameters: {'max_depth': 25, 'n_estimators': 42}. Best is trial 0 with value: 0.5911428857501931.\n",
            "[I 2023-10-29 20:14:53,440] Trial 1 finished with value: 0.5965480659672389 and parameters: {'max_depth': 23, 'n_estimators': 136}. Best is trial 1 with value: 0.5965480659672389.\n",
            "[I 2023-10-29 20:14:56,387] Trial 2 finished with value: 0.5889416098177559 and parameters: {'max_depth': 26, 'n_estimators': 63}. Best is trial 1 with value: 0.5965480659672389.\n",
            "[I 2023-10-29 20:14:57,915] Trial 3 finished with value: 0.5848429380425684 and parameters: {'max_depth': 11, 'n_estimators': 58}. Best is trial 1 with value: 0.5965480659672389.\n",
            "[I 2023-10-29 20:15:00,590] Trial 4 finished with value: 0.5787965649850686 and parameters: {'max_depth': 8, 'n_estimators': 141}. Best is trial 1 with value: 0.5965480659672389.\n",
            "[I 2023-10-29 20:15:07,378] Trial 5 finished with value: 0.5966300674002891 and parameters: {'max_depth': 25, 'n_estimators': 146}. Best is trial 5 with value: 0.5966300674002891.\n",
            "[I 2023-10-29 20:15:08,765] Trial 6 finished with value: 0.5891412488049295 and parameters: {'max_depth': 17, 'n_estimators': 35}. Best is trial 5 with value: 0.5966300674002891.\n",
            "[I 2023-10-29 20:15:15,495] Trial 7 finished with value: 0.5977237236816576 and parameters: {'max_depth': 20, 'n_estimators': 156}. Best is trial 7 with value: 0.5977237236816576.\n",
            "[I 2023-10-29 20:15:22,129] Trial 8 finished with value: 0.5983147195190202 and parameters: {'max_depth': 16, 'n_estimators': 177}. Best is trial 8 with value: 0.5983147195190202.\n",
            "[I 2023-10-29 20:15:29,394] Trial 9 finished with value: 0.5959237197413811 and parameters: {'max_depth': 24, 'n_estimators': 157}. Best is trial 8 with value: 0.5983147195190202.\n"
          ]
        },
        {
          "name": "stdout",
          "output_type": "stream",
          "text": [
            "Beste hyperparameters: {'max_depth': 16, 'n_estimators': 177}\n",
            "Beste R2: 0.5983147195190202\n"
          ]
        }
      ],
      "source": [
        "X = df.drop(\"Laatste vraagprijs\", axis = 1)\n",
        "y = df[\"Laatste vraagprijs\"]\n",
        "#Train test split om de dataset te splitten in een trainingsdeel en een testdeel\n",
        "X_train, X_test, y_train, y_test = train_test_split(X, y, test_size = 0.3, random_state = 42)\n",
        "\n",
        "#Dit is de functie voor het aanmaken van de trial\n",
        "def trial(trial):\n",
        "    max_depth = trial.suggest_int('max_depth', 2, 32) #De max_depth die wordt gekozen tussen de 2 en 32.\n",
        "    n_estimators = trial.suggest_int('n_estimators', 10, 200) #De n_estimators wordt gekozen tussen de 10 en 200.\n",
        "    model = RandomForestRegressor(max_depth=max_depth, n_estimators=n_estimators, random_state = 42) #Aanmaken van het model, trainen en y_pred berekenen\n",
        "    model.fit(X_train, y_train)\n",
        "    y_pred = model.predict(X_test)\n",
        "    rmse = math.sqrt(mean_squared_error(y_test, y_pred)) #De R2 en de rmse worden berekend, voor nu werkt de trial alleen met 1 output, dus kiezen we in dit geval voor de R2 score.\n",
        "    r2 = r2_score(y_test, y_pred)\n",
        "    return r2\n",
        "\n",
        "#het lukte mij niet om de trial met behulp van de pipetorch library uit te voeren, dus heb ik op internet naar een andere manier gezocht en kwam ik uit op deze manier.\n",
        "if __name__ == \"__main__\":\n",
        "    study = optuna.create_study(direction= \"maximize\")  # ik probeer de RMSE te minimaliseren en de r2 te maximaliseren\n",
        "    study.optimize(trial ,n_trials=10)  # Aantal trials aanpassen naar behoefte, we doen nu 10 trials omdat dit \"lang\" duurt\n",
        "\n",
        "    #Toon de beste hyperparameters en beste RMSE/r2\n",
        "    best_params = study.best_params\n",
        "    #best_rmse = study.best_value\n",
        "    best_r2 = study.best_value\n",
        "    print(\"Beste hyperparameters:\", best_params)\n",
        "    #print(\"Beste RMSE:\", best_rmse)\n",
        "    print(\"Beste R2:\", best_r2)"
      ]
    },
    {
      "cell_type": "markdown",
      "id": "d70683ef",
      "metadata": {
        "id": "d70683ef"
      },
      "source": [
        "### Model 4; RandomForestRegressor met sterk correlerende variabelen"
      ]
    },
    {
      "cell_type": "code",
      "execution_count": null,
      "id": "ab842510",
      "metadata": {
        "id": "ab842510",
        "outputId": "6cf5f3f3-92d8-418b-d3de-e19df8319450"
      },
      "outputs": [
        {
          "name": "stderr",
          "output_type": "stream",
          "text": [
            "[I 2023-10-29 20:13:10,057] A new study created in memory with name: no-name-f9a2c77d-8055-4bad-b9c6-77ec9f613bf2\n",
            "[I 2023-10-29 20:13:11,908] Trial 0 finished with value: 0.5727740890878992 and parameters: {'max_depth': 8, 'n_estimators': 166}. Best is trial 0 with value: 0.5727740890878992.\n",
            "[I 2023-10-29 20:13:15,060] Trial 1 finished with value: 0.5835891832295683 and parameters: {'max_depth': 23, 'n_estimators': 128}. Best is trial 1 with value: 0.5835891832295683.\n",
            "[I 2023-10-29 20:13:16,398] Trial 2 finished with value: 0.5868375527431288 and parameters: {'max_depth': 15, 'n_estimators': 68}. Best is trial 2 with value: 0.5868375527431288.\n",
            "[I 2023-10-29 20:13:20,741] Trial 3 finished with value: 0.5841581776905859 and parameters: {'max_depth': 23, 'n_estimators': 177}. Best is trial 2 with value: 0.5868375527431288.\n",
            "[I 2023-10-29 20:13:23,054] Trial 4 finished with value: 0.5844497993487527 and parameters: {'max_depth': 29, 'n_estimators': 91}. Best is trial 2 with value: 0.5868375527431288.\n",
            "[I 2023-10-29 20:13:26,515] Trial 5 finished with value: 0.5838915198781118 and parameters: {'max_depth': 31, 'n_estimators': 136}. Best is trial 2 with value: 0.5868375527431288.\n",
            "[I 2023-10-29 20:13:30,363] Trial 6 finished with value: 0.5863223971694512 and parameters: {'max_depth': 16, 'n_estimators': 186}. Best is trial 2 with value: 0.5868375527431288.\n",
            "[I 2023-10-29 20:13:31,786] Trial 7 finished with value: 0.585269407740816 and parameters: {'max_depth': 12, 'n_estimators': 88}. Best is trial 2 with value: 0.5868375527431288.\n",
            "[I 2023-10-29 20:13:32,812] Trial 8 finished with value: 0.567697810022783 and parameters: {'max_depth': 7, 'n_estimators': 106}. Best is trial 2 with value: 0.5868375527431288.\n",
            "[I 2023-10-29 20:13:33,962] Trial 9 finished with value: 0.5820845228419744 and parameters: {'max_depth': 29, 'n_estimators': 45}. Best is trial 2 with value: 0.5868375527431288.\n"
          ]
        },
        {
          "name": "stdout",
          "output_type": "stream",
          "text": [
            "Beste hyperparameters: {'max_depth': 15, 'n_estimators': 68}\n",
            "Beste R2: 0.5868375527431288\n"
          ]
        }
      ],
      "source": [
        "X = df[sterk_correlatie]\n",
        "y = df[\"Laatste vraagprijs\"]\n",
        "#Train test split om de dataset te splitten in een trainingsdeel en een testdeel\n",
        "X_train, X_test, y_train, y_test = train_test_split(X, y, test_size = 0.3, random_state = 42)\n",
        "\n",
        "#Dit is de functie voor het aanmaken van de trial\n",
        "def trial(trial):\n",
        "    max_depth = trial.suggest_int('max_depth', 2, 32) #De max_depth die wordt gekozen tussen de 2 en 32.\n",
        "    n_estimators = trial.suggest_int('n_estimators', 10, 200) #De n_estimators wordt gekozen tussen de 10 en 200.\n",
        "    model = RandomForestRegressor(max_depth=max_depth, n_estimators=n_estimators, random_state = 42) #Aanmaken van het model, trainen en y_pred berekenen\n",
        "    model.fit(X_train, y_train)\n",
        "    y_pred = model.predict(X_test)\n",
        "    rmse = math.sqrt(mean_squared_error(y_test, y_pred)) #De R2 en de rmse worden berekend, voor nu werkt de trial alleen met 1 output, dus kiezen we in dit geval voor de R2 score.\n",
        "    r2 = r2_score(y_test, y_pred)\n",
        "    return r2\n",
        "\n",
        "if __name__ == \"__main__\":\n",
        "    study = optuna.create_study(direction= \"maximize\")  # We proberen de RMSE te minimaliseren en de r2 te maximaliseren\n",
        "    study.optimize(trial ,n_trials=10)  # Aantal trials aanpassen naar behoefte, we doen nu 50 trials omdat dit \"lang\" duurt\n",
        "\n",
        "    # Toon de beste hyperparameters en beste RMSE/r2\n",
        "    best_params = study.best_params\n",
        "    #best_rmse = study.best_value\n",
        "    best_r2 = study.best_value\n",
        "    print(\"Beste hyperparameters:\", best_params)\n",
        "    #print(\"Beste RMSE:\", best_rmse)\n",
        "    print(\"Beste R2:\", best_r2)"
      ]
    },
    {
      "cell_type": "code",
      "execution_count": null,
      "id": "2ffb7db5",
      "metadata": {
        "id": "2ffb7db5",
        "outputId": "af938058-da3d-4e3b-e485-80bb76fa8a73"
      },
      "outputs": [
        {
          "name": "stdout",
          "output_type": "stream",
          "text": [
            "De uitkomsten van de validatieset:\n",
            "0.6169498838337826 136779.90797407742\n"
          ]
        }
      ],
      "source": [
        "X_valid = validdf.drop('Laatste vraagprijs', axis = 1)\n",
        "y_valid = validdf['Laatste vraagprijs']\n",
        "X = df.drop(\"Laatste vraagprijs\", axis = 1)\n",
        "y = df[\"Laatste vraagprijs\"]\n",
        "X_train, X_test, y_train, y_test = train_test_split(X, y, test_size = 0.3, random_state = 42)\n",
        "\n",
        "\n",
        "model = RandomForestRegressor(max_depth = 16, n_estimators = 177, random_state = 42)\n",
        "model.fit(X_train, y_train)\n",
        "y_pred = model.predict(X_test)\n",
        "r2 = r2_score(y_test, y_pred)\n",
        "\n",
        "y_pred_valid = model.predict(X_valid)\n",
        "r2_valid = r2_score(y_valid, y_pred_valid)\n",
        "rmse_valid = math.sqrt(mean_squared_error(y_valid, y_pred_valid))\n",
        "print(\"De uitkomsten van de validatieset:\")\n",
        "print(r2_valid, rmse_valid)"
      ]
    },
    {
      "cell_type": "markdown",
      "id": "9083285d",
      "metadata": {
        "id": "9083285d"
      },
      "source": [
        "### Conclusie"
      ]
    },
    {
      "cell_type": "markdown",
      "id": "6d20b966",
      "metadata": {
        "id": "6d20b966"
      },
      "source": [
        "Ik heb meerdere opties uitgevoerd en geprobeerd. De beste scores komen uit het model waar ik LinearRegression heb toegepast en het gemiddelde van 100 trials hebben berekend. De gemiddelde R2-score komt elke keer uit rond de 0.60, de RMSE komt elke keer rond de 140000. Ik ben hier niet helemaal tevreden over, als we bijvoorbeeld naar de RMSE kijken, dan zit de output van mijn model er gemiddeld zo'n 140000 euro naast. Als we dan de verdeling zien van de bedragen die we bij de data-analyse hebben laten zien, dan vind ik 140000 euro wel heel erg veel. Zeker omdat we zien dat de meeste huizen verkocht worden voor een bedrag tussen de 300000 en 400000. Ik heb geprobeerd om ook met Lasso en Ridge regressies een beter voorspelling te maken omdat ik misschien teveel variabelen meeneem, maar daar kwamen niet betere scores uit. Ook uit de validatieset komt een gemiddelde fout van 140000 euro."
      ]
    },
    {
      "cell_type": "markdown",
      "id": "801d4d1e",
      "metadata": {
        "id": "801d4d1e"
      },
      "source": [
        "## Opdracht deel 2"
      ]
    },
    {
      "cell_type": "markdown",
      "id": "217ec1fd",
      "metadata": {
        "id": "217ec1fd"
      },
      "source": [
        "Voor deel 2 van deze opdracht moet er een model worden gemaakt die kan voorspellen of een huis verkocht wordt binnen 14 dagen. Dit is een classificatieprobleem, het huis wordt wel of niet verkocht binnen 14 dagen. Dat betekend dat de deolvariabele zo moet worden omgezet dat deze een 1 of 0 aanneemt. De eerste stap is het maken van een simpel model."
      ]
    },
    {
      "cell_type": "code",
      "execution_count": null,
      "id": "c3635875",
      "metadata": {
        "id": "c3635875"
      },
      "outputs": [],
      "source": [
        "#Het is duidelijk dat het hier gaat om een classificatieprobleem, een huis wordt wel of wordt niet binnen 14 dagen verkocht.\n",
        "#Vandaar dat de doelvariabele wordt aangepast naar een 1 of een 0. Een 1 als het binnen 14 dagen wordt verkocht, een 0 als dat niet is gelukt.\n",
        "df['Aantal dagen tot verkoop'] = df['Aantal dagen tot verkoop'].apply(lambda x: 1 if x <= 14 else 0)\n",
        "validdf['Aantal dagen tot verkoop'] = validdf['Aantal dagen tot verkoop'].apply(lambda x: 1 if x <= 14 else 0)"
      ]
    },
    {
      "cell_type": "code",
      "execution_count": null,
      "id": "3dbde49f",
      "metadata": {
        "id": "3dbde49f",
        "outputId": "d07017bf-0072-42e6-fb0f-514a3d33d9dc"
      },
      "outputs": [
        {
          "name": "stdout",
          "output_type": "stream",
          "text": [
            "[[2170    2]\n",
            " [ 497    0]] 0.8130385912326714\n"
          ]
        }
      ],
      "source": [
        "#Stap 1; Een simpel model\n",
        "X = df.drop('Aantal dagen tot verkoop', axis = 1)\n",
        "y = df['Aantal dagen tot verkoop']\n",
        "X_train, X_test, y_train, y_test = train_test_split(X, y, test_size = 0.3)\n",
        "\n",
        "#Maak een LogisticRegression model\n",
        "model = LogisticRegression()\n",
        "model.fit(X_train, y_train)\n",
        "y_pred = model.predict(X_test)\n",
        "\n",
        "matrix = confusion_matrix(y_test, y_pred)\n",
        "acc = accuracy_score(y_test, y_pred)\n",
        "print(matrix, acc)"
      ]
    },
    {
      "cell_type": "code",
      "execution_count": null,
      "id": "afaaedc6",
      "metadata": {
        "id": "afaaedc6",
        "outputId": "3a9a1c82-d0af-4b01-bb22-5a98ade5e545"
      },
      "outputs": [
        {
          "name": "stdout",
          "output_type": "stream",
          "text": [
            "[0 0 0 ... 0 0 0]\n",
            "0    2172\n",
            "1     497\n",
            "Name: Aantal dagen tot verkoop, dtype: int64\n"
          ]
        }
      ],
      "source": [
        "print(y_pred)\n",
        "print(y_test.value_counts())"
      ]
    },
    {
      "cell_type": "markdown",
      "id": "96561a17",
      "metadata": {
        "id": "96561a17"
      },
      "source": [
        "Als ik naar de accuracy score alleen kijk, lijkt het alsof het model het goed doet. Maar als ik ook naar de confusion matrix ga kijken, dan zien we dat het model alleen maar een 0 als uitkomst geeft. Omdat er in de dataset veel meer huizen zijn die niet binnen 14 dagen worden verkocht, zorgt dat voor een accuracy score van meer dan 81%. Dit kan worden opgelost door de data te gaan balanceren. Dit mag je alleen doen op de training data.  "
      ]
    },
    {
      "cell_type": "code",
      "execution_count": null,
      "id": "925a793c",
      "metadata": {
        "id": "925a793c",
        "outputId": "292d9cdf-358f-417c-ba5f-56d84388d966"
      },
      "outputs": [
        {
          "data": {
            "text/plain": [
              "0    5834\n",
              "1    1282\n",
              "Name: Aantal dagen tot verkoop, dtype: int64"
            ]
          },
          "execution_count": 24,
          "metadata": {},
          "output_type": "execute_result"
        }
      ],
      "source": [
        "#Het balanceren van de data is de volgende stap.\n",
        "train, test = train_test_split(df, test_size=0.2, random_state=42)\n",
        "pd.Series(train['Aantal dagen tot verkoop']).value_counts()"
      ]
    },
    {
      "cell_type": "code",
      "execution_count": null,
      "id": "25da279f",
      "metadata": {
        "id": "25da279f"
      },
      "outputs": [],
      "source": [
        "#hier wordt het aantal berekend voor het balanceren.\n",
        "aantal = len(pd.Series(train['Aantal dagen tot verkoop'])) - pd.Series(train['Aantal dagen tot verkoop']).sum()"
      ]
    },
    {
      "cell_type": "code",
      "execution_count": null,
      "id": "ceabe52f",
      "metadata": {
        "id": "ceabe52f"
      },
      "outputs": [],
      "source": [
        "train_resampled = pd.concat([train[train['Aantal dagen tot verkoop']==0],\n",
        "                             resample(train[train['Aantal dagen tot verkoop']==1], n_samples=aantal)])"
      ]
    },
    {
      "cell_type": "code",
      "execution_count": null,
      "id": "35be036a",
      "metadata": {
        "id": "35be036a",
        "outputId": "1c0caade-91e6-4fb3-8cf2-2f04496b9067"
      },
      "outputs": [
        {
          "data": {
            "text/plain": [
              "0    5834\n",
              "1    5834\n",
              "Name: Aantal dagen tot verkoop, dtype: int64"
            ]
          },
          "execution_count": 27,
          "metadata": {},
          "output_type": "execute_result"
        }
      ],
      "source": [
        "train_resampled['Aantal dagen tot verkoop'].value_counts()"
      ]
    },
    {
      "cell_type": "code",
      "execution_count": null,
      "id": "2099dfe5",
      "metadata": {
        "id": "2099dfe5",
        "outputId": "ca4fb39a-82b1-49ee-be08-40c96b536ba1"
      },
      "outputs": [
        {
          "name": "stdout",
          "output_type": "stream",
          "text": [
            "[[ 270 1187]\n",
            " [  58  264]] 0.30016863406408095\n",
            "0.2978003384094754\n"
          ]
        }
      ],
      "source": [
        "X_train = train_resampled.drop(columns='Aantal dagen tot verkoop').to_numpy()\n",
        "y_train = train_resampled['Aantal dagen tot verkoop'].to_numpy()\n",
        "X_test = test.drop(columns='Aantal dagen tot verkoop').to_numpy()\n",
        "y_test = test['Aantal dagen tot verkoop'].to_numpy()\n",
        "\n",
        "#Opnieuw een LogisticRegression fitten op deze data\n",
        "model = LogisticRegression()\n",
        "model.fit(X_train, y_train)\n",
        "y_pred = model.predict(X_test)\n",
        "\n",
        "matrix = confusion_matrix(y_test, y_pred)\n",
        "acc = accuracy_score(y_test, y_pred)\n",
        "print(matrix, acc)\n",
        "print(f1_score(y_test, y_pred))"
      ]
    },
    {
      "cell_type": "markdown",
      "id": "e3772a8f",
      "metadata": {
        "id": "e3772a8f"
      },
      "source": [
        "Nu zien we dat het model nog minder goed scoort, maar het model schat niet meer dat alle huizen niet binnen 14 dagen verkocht worden. Ik neem nog steeds alle data mee. Voor de LogisticRegression kan ik een model maken die het gewicht van de coefficienten die minder relevant zijn naar 0 halen. Dat model ga ik nu toepassen om te kijken of het een verbetering opleverd."
      ]
    },
    {
      "cell_type": "code",
      "execution_count": null,
      "id": "039b9906",
      "metadata": {
        "id": "039b9906",
        "outputId": "14c67777-b36c-4ef9-e423-11f291d1433d"
      },
      "outputs": [
        {
          "name": "stdout",
          "output_type": "stream",
          "text": [
            "[[752 705]\n",
            " [146 176]] 0.5216413715570545\n",
            "0.29260182876142976\n"
          ]
        }
      ],
      "source": [
        "#Door in de LogisticRegression de penalty mee te geven haalt dat de coefficienten naar 0.\n",
        "model = LogisticRegression(penalty='l1', solver = 'liblinear')\n",
        "model.fit(X_train, y_train)\n",
        "y_pred = model.predict(X_test)\n",
        "\n",
        "acc = accuracy_score(y_test, y_pred)\n",
        "matrix = confusion_matrix(y_test, y_pred)\n",
        "print(matrix, acc)\n",
        "print(f1_score(y_test, y_pred))"
      ]
    },
    {
      "cell_type": "markdown",
      "id": "7430887a",
      "metadata": {
        "id": "7430887a"
      },
      "source": [
        "Er is te zien dat het model het weer wat beter doet. Een accuracy score van 53%. De volgende stap is dat ik een ander model ga proberen. Ik wil het RandomForestClassifier model hier op loslaten, eerst simpel en daarna de hyperparameters tunen. Als daar betere uitkomsten uitkomen gaan we het model valideren met de validatieset en anders gebruiken we het model hierboven."
      ]
    },
    {
      "cell_type": "code",
      "execution_count": null,
      "id": "9e1bfab7",
      "metadata": {
        "id": "9e1bfab7",
        "outputId": "51ade2e3-e412-4edf-cd2e-121e9d503f97"
      },
      "outputs": [
        {
          "name": "stdout",
          "output_type": "stream",
          "text": [
            "[[1442   15]\n",
            " [ 315    7]] 0.8145025295109612\n",
            "0.040697674418604654\n"
          ]
        }
      ],
      "source": [
        "#Eerst een simpel RandomForestClassifier fitten en evalueren.\n",
        "model = RandomForestClassifier()\n",
        "model.fit(X_train, y_train)\n",
        "y_pred = model.predict(X_test)\n",
        "\n",
        "acc = accuracy_score(y_test, y_pred)\n",
        "matrix = confusion_matrix(y_test, y_pred)\n",
        "print(matrix, acc)\n",
        "print(f1_score(y_test, y_pred))"
      ]
    },
    {
      "cell_type": "markdown",
      "id": "3b502d84",
      "metadata": {
        "id": "3b502d84"
      },
      "source": [
        "Hierboven zien we dat er maar 15 keer wordt voorspeld dat een huis binnen 14 dagen verkocht wordt. Dat zijn er natuurlijk veel meer, dus ook dit model is nog niet optimaal. Volgende stap is om de hyperparamers te tunen"
      ]
    },
    {
      "cell_type": "code",
      "execution_count": null,
      "id": "4fad3ab7",
      "metadata": {
        "id": "4fad3ab7",
        "outputId": "2eb6314f-2c0c-4768-8d4b-a981c282b5b9"
      },
      "outputs": [
        {
          "name": "stderr",
          "output_type": "stream",
          "text": [
            "[I 2023-10-29 20:19:01,543] A new study created in memory with name: no-name-90ee84fe-3fcc-4796-bea9-e841d4091855\n",
            "[I 2023-10-29 20:19:01,775] Trial 0 finished with value: 0.27264239028944914 and parameters: {'max_depth': 9, 'n_estimators': 34}. Best is trial 0 with value: 0.27264239028944914.\n",
            "[I 2023-10-29 20:19:02,184] Trial 1 finished with value: 0.2868277474668745 and parameters: {'max_depth': 6, 'n_estimators': 98}. Best is trial 1 with value: 0.2868277474668745.\n",
            "[I 2023-10-29 20:19:02,505] Trial 2 finished with value: 0.16568047337278105 and parameters: {'max_depth': 19, 'n_estimators': 33}. Best is trial 1 with value: 0.2868277474668745.\n",
            "[I 2023-10-29 20:19:03,722] Trial 3 finished with value: 0.16666666666666666 and parameters: {'max_depth': 15, 'n_estimators': 143}. Best is trial 1 with value: 0.2868277474668745.\n",
            "[I 2023-10-29 20:19:04,647] Trial 4 finished with value: 0.2732447817836813 and parameters: {'max_depth': 9, 'n_estimators': 168}. Best is trial 1 with value: 0.2868277474668745.\n",
            "[I 2023-10-29 20:19:04,798] Trial 5 finished with value: 0.12444444444444445 and parameters: {'max_depth': 27, 'n_estimators': 13}. Best is trial 1 with value: 0.2868277474668745.\n",
            "[I 2023-10-29 20:19:05,357] Trial 6 finished with value: 0.287603305785124 and parameters: {'max_depth': 7, 'n_estimators': 117}. Best is trial 6 with value: 0.287603305785124.\n",
            "[I 2023-10-29 20:19:05,593] Trial 7 finished with value: 0.2920152091254753 and parameters: {'max_depth': 6, 'n_estimators': 54}. Best is trial 7 with value: 0.2920152091254753.\n",
            "[I 2023-10-29 20:19:05,961] Trial 8 finished with value: 0.09809264305177112 and parameters: {'max_depth': 39, 'n_estimators': 30}. Best is trial 7 with value: 0.2920152091254753.\n",
            "[I 2023-10-29 20:19:07,852] Trial 9 finished with value: 0.0851063829787234 and parameters: {'max_depth': 25, 'n_estimators': 172}. Best is trial 7 with value: 0.2920152091254753.\n"
          ]
        },
        {
          "name": "stdout",
          "output_type": "stream",
          "text": [
            "Beste hyperparameters: {'max_depth': 6, 'n_estimators': 54}\n",
            "Beste f1: 0.2920152091254753\n"
          ]
        }
      ],
      "source": [
        "#Hier heb ik een zelfde functie geschreven als bij de vorige hyperparameter tuning, maar dan voor een classifier.\n",
        "def trial(trial):\n",
        "    max_depth = trial.suggest_int('max_depth', 2, 40)\n",
        "    n_estimators = trial.suggest_int('n_estimators', 10, 200)\n",
        "    model = RandomForestClassifier(max_depth=max_depth, n_estimators=n_estimators, random_state = 42)\n",
        "    model.fit(X_train, y_train)\n",
        "    y_pred = model.predict(X_test)\n",
        "    accuracy = accuracy_score(y_test, y_pred)\n",
        "    f1 = f1_score(y_test, y_pred)\n",
        "    return f1\n",
        "\n",
        "if __name__ == \"__main__\":\n",
        "    study = optuna.create_study(direction=\"maximize\")\n",
        "    study.optimize(trial, n_trials=10)\n",
        "\n",
        "    # Toon de beste hyperparameters en beste nauwkeurigheid\n",
        "    best_params = study.best_params\n",
        "    #best_accuracy = study.best_value\n",
        "    best_f1 = study.best_value\n",
        "    print(\"Beste hyperparameters:\", best_params)\n",
        "    #print(\"Beste nauwkeurigheid:\", best_accuracy)\n",
        "    print(\"Beste f1:\", best_f1)\n"
      ]
    },
    {
      "cell_type": "code",
      "execution_count": null,
      "id": "6be3b75d",
      "metadata": {
        "id": "6be3b75d",
        "outputId": "9876fe30-356e-4b72-8065-6879576bc6b8"
      },
      "outputs": [
        {
          "name": "stdout",
          "output_type": "stream",
          "text": [
            "De uitkomsten van trainen en testen:\n",
            "0.47667228780213605\n",
            "[[656 801]\n",
            " [130 192]]\n",
            "0.2920152091254753\n",
            "\n",
            "De uitkomsten van validatie:\n",
            "0.5156723963599595\n",
            "[[393 410]\n",
            " [ 69 117]]\n",
            "0.3281907433380084\n"
          ]
        },
        {
          "name": "stderr",
          "output_type": "stream",
          "text": [
            "/Users/gebruiker/opt/anaconda3/lib/python3.8/site-packages/sklearn/base.py:443: UserWarning: X has feature names, but RandomForestClassifier was fitted without feature names\n",
            "  warnings.warn(\n"
          ]
        }
      ],
      "source": [
        "#Het beste model nog beoordelen aan de hand van de validatieset\n",
        "X_valid = validdf.drop('Aantal dagen tot verkoop', axis = 1)\n",
        "y_valid = validdf['Aantal dagen tot verkoop']\n",
        "\n",
        "model = RandomForestClassifier(max_depth = 6, n_estimators = 54, random_state = 42)\n",
        "model.fit(X_train, y_train)\n",
        "y_pred = model.predict(X_test)\n",
        "\n",
        "print(\"De uitkomsten van trainen en testen:\")\n",
        "print(accuracy_score(y_test, y_pred))\n",
        "print(confusion_matrix(y_test, y_pred))\n",
        "print(f1_score(y_test, y_pred))\n",
        "\n",
        "y_pred_valid = model.predict(X_valid)\n",
        "print(\"\")\n",
        "print(\"De uitkomsten van validatie:\")\n",
        "print(accuracy_score(y_valid, y_pred_valid))\n",
        "print(confusion_matrix(y_valid, y_pred_valid))\n",
        "print(f1_score(y_valid, y_pred_valid))"
      ]
    },
    {
      "cell_type": "markdown",
      "id": "351ef1cf",
      "metadata": {
        "id": "351ef1cf"
      },
      "source": [
        "Op de validatieset zien we ingeveer dezelfde uitkomsten dus wordt er niet overfit op de test en training set."
      ]
    },
    {
      "cell_type": "markdown",
      "id": "184ec4f8",
      "metadata": {
        "id": "184ec4f8"
      },
      "source": [
        "### Conclusie"
      ]
    },
    {
      "cell_type": "markdown",
      "id": "a422510e",
      "metadata": {
        "id": "a422510e"
      },
      "source": [
        "Uiteindelijk heb ik een aantal modellen geprobeerd, van de modellen heb ik de hyperparameters getuned, maar ik kom niet op hele indrukwekkende scores uit. De acuuracy score is elke keer richting de 60% en dat betekend dat het model beter voorspeld dan het opgooeien van een muntje. Maar ik denk dat het model nog zeker verbeterd moet worden voordat een makelaar dit model kan gaan gebruiken voor het voorspellen of een huis binnen 14 dagen verkocht gaat worden of niet."
      ]
    },
    {
      "cell_type": "markdown",
      "id": "f5fc7d3f",
      "metadata": {
        "id": "f5fc7d3f"
      },
      "source": [
        "##### Joeri Meijers 20123558"
      ]
    },
    {
      "cell_type": "markdown",
      "id": "5cd2bed4",
      "metadata": {
        "id": "5cd2bed4"
      },
      "source": [
        "Ik heb mijn best gedaan om het zo duidelijk mogelijk te noteren allemaal. Mochten er nog vragen over zijn dan hoor ik die graag."
      ]
    },
    {
      "cell_type": "code",
      "execution_count": null,
      "id": "88b35616",
      "metadata": {
        "id": "88b35616"
      },
      "outputs": [],
      "source": []
    }
  ],
  "metadata": {
    "kernelspec": {
      "display_name": "Python 3 (ipykernel)",
      "language": "python",
      "name": "python3"
    },
    "language_info": {
      "codemirror_mode": {
        "name": "ipython",
        "version": 3
      },
      "file_extension": ".py",
      "mimetype": "text/x-python",
      "name": "python",
      "nbconvert_exporter": "python",
      "pygments_lexer": "ipython3",
      "version": "3.8.8"
    },
    "colab": {
      "provenance": [],
      "include_colab_link": true
    }
  },
  "nbformat": 4,
  "nbformat_minor": 5
}